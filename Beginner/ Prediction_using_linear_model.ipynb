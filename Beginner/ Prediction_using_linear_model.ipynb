{
 "cells": [
  {
   "cell_type": "markdown",
   "metadata": {},
   "source": [
    "### 357. Prediction using a linear model"
   ]
  },
  {
   "cell_type": "markdown",
   "metadata": {},
   "source": [
    "Consider a multi-dimensional array X having input features and a one-dimensional array Y as the target.\n",
    "\n",
    "Fit a linear regression model using the given input X and target Y.\n",
    "\n",
    "Once fitted, predict the target value for a given set N containing feature values as input. \n",
    "\n"
   ]
  },
  {
   "cell_type": "code",
   "execution_count": 149,
   "metadata": {},
   "outputs": [],
   "source": [
    "import sklearn\n",
    "import numpy as np\n",
    "from sklearn.linear_model import LinearRegression\n",
    "from sklearn.model_selection import train_test_split"
   ]
  },
  {
   "cell_type": "code",
   "execution_count": 151,
   "metadata": {},
   "outputs": [],
   "source": [
    "def predict(x, y, n):\n",
    "    arr = []\n",
    "    reg = LinearRegression().fit(X, Y)\n",
    "    reg.score(X, Y)\n",
    "    reg.coef_\n",
    "    reg.intercept_\n",
    "    print('[',end='')\n",
    "    for i in range(len(n)):\n",
    "        arr.append(reg.predict([n[i]])[0])\n",
    "    print(*arr, sep=' ',end='')\n",
    "    print(']')\n",
    "\n"
   ]
  },
  {
   "cell_type": "code",
   "execution_count": 154,
   "metadata": {},
   "outputs": [
    {
     "name": "stdout",
     "output_type": "stream",
     "text": [
      "[10.16]\n"
     ]
    }
   ],
   "source": [
    "X = [[2.2,10],[3,4],[5,6],[9,10]]\n",
    "Y = [13.1,11.1,10.12,12]\n",
    "N = [[1,2]]\n",
    "predict(X, Y, N)"
   ]
  },
  {
   "cell_type": "code",
   "execution_count": 153,
   "metadata": {},
   "outputs": [
    {
     "name": "stdout",
     "output_type": "stream",
     "text": [
      "[14.97174825 16.00685315]\n"
     ]
    }
   ],
   "source": [
    "X = [[8,12,1],[13,4,1],[15,6,1],[9,10,1],[12,1,3]]\n",
    "Y = [15.3,14.3,15.12,16,16.1]\n",
    "N = [[10,2,2],[11,12,1]]\n",
    "arr = []\n",
    "predict(X, Y, N)"
   ]
  }
 ],
 "metadata": {
  "kernelspec": {
   "display_name": "Python 3.10.6 64-bit",
   "language": "python",
   "name": "python3"
  },
  "language_info": {
   "codemirror_mode": {
    "name": "ipython",
    "version": 3
   },
   "file_extension": ".py",
   "mimetype": "text/x-python",
   "name": "python",
   "nbconvert_exporter": "python",
   "pygments_lexer": "ipython3",
   "version": "3.10.6"
  },
  "orig_nbformat": 4,
  "vscode": {
   "interpreter": {
    "hash": "e7370f93d1d0cde622a1f8e1c04877d8463912d04d973331ad4851f04de6915a"
   }
  }
 },
 "nbformat": 4,
 "nbformat_minor": 2
}
